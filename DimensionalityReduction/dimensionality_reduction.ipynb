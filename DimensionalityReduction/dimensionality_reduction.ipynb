{
 "cells": [
  {
   "cell_type": "code",
   "execution_count": 27,
   "metadata": {},
   "outputs": [],
   "source": [
    "import numpy as np\n",
    "import pandas as pd\n",
    "import matplotlib.pyplot as plt\n",
    "import seaborn as sns\n",
    "from sklearn import datasets\n",
    "from sklearn.model_selection import train_test_split\n",
    "from sklearn.preprocessing import StandardScaler\n",
    "import time\n",
    "import tqdm\n",
    "import numpy\n",
    "from sklearn.decomposition import PCA\n",
    "import numpy as np\n",
    "import matplotlib.pyplot as plt\n",
    "from sklearn.ensemble import RandomForestClassifier\n",
    "from sklearn.model_selection import cross_val_score\n",
    "\n",
    "\n",
    "import torch\n",
    "from torch import nn\n",
    "from torch.utils.data import DataLoader, Dataset\n",
    "from torch.utils.tensorboard import SummaryWriter"
   ]
  },
  {
   "cell_type": "markdown",
   "metadata": {},
   "source": [
    "## Data Preparation"
   ]
  },
  {
   "cell_type": "code",
   "execution_count": 2,
   "metadata": {},
   "outputs": [],
   "source": [
    "# generate data\n",
    "#X, y = datasets.make_classification(n_samples=10000, n_features=50, n_redundant=10, n_informative=10,\n",
    "#                           random_state=1, n_clusters_per_class=2,n_classes=3, class_sep=2)\n",
    "\n",
    "X,y = datasets.make_classification(n_samples=10000, n_features=50, n_redundant=10,n_informative=20,random_state=1,n_classes=2, class_sep=2)\n",
    "\n",
    "                                   \n",
    "# divide data in Train - Validation - Test\n",
    "X_train, X_test, y_train, y_test = train_test_split(X, y, test_size=0.3, random_state=42)\n",
    "X_tr, X_valid, y_tr, y_valid = train_test_split(X_train, y_train, test_size=0.2, random_state=42) \n",
    "\n",
    "# Standardize Data\n",
    "sc = StandardScaler()\n",
    "X_tr_std = sc.fit_transform(X_tr)\n",
    "X_valid_std = sc.transform(X_valid)\n",
    "X_test_std = sc.transform(X_test)"
   ]
  },
  {
   "cell_type": "code",
   "execution_count": 3,
   "metadata": {},
   "outputs": [
    {
     "data": {
      "text/plain": [
       "<AxesSubplot:title={'center':'Feature wise Variance'}, xlabel='Features', ylabel='Variance'>"
      ]
     },
     "execution_count": 3,
     "metadata": {},
     "output_type": "execute_result"
    },
    {
     "data": {
      "image/png": "[encoded data removed]",
      "text/plain": [
       "<Figure size 432x288 with 1 Axes>"
      ]
     },
     "metadata": {
      "needs_background": "light"
     },
     "output_type": "display_data"
    }
   ],
   "source": [
    "df_train = pd.DataFrame(X_tr)\n",
    "df_train.var().plot(kind='bar',xlabel='Features', ylabel='Variance', title='Feature wise Variance')"
   ]
  },
  {
   "cell_type": "markdown",
   "metadata": {},
   "source": [
    "## Comparing Auto encoder with PCA"
   ]
  },
  {
   "cell_type": "code",
   "execution_count": 4,
   "metadata": {},
   "outputs": [],
   "source": [
    "class Dataset(object):\n",
    " \n",
    "    def __init__(self,features,labels):\n",
    "        self.data = features\n",
    "        self.labels = labels\n",
    "\n",
    "    def __getitem__(self, index):\n",
    "        return torch.FloatTensor(self.data[index]).reshape(-1),self.labels[index]\n",
    "\n",
    "    def __len__(self):\n",
    "        return len(self.data)\n",
    "\n",
    "train_dataset = Dataset(X_tr_std,y_tr)\n",
    "val_dataset = Dataset(X_valid_std,y_valid)\n",
    "test_dataset  = Dataset(X_test_std,y_test)\n",
    "\n",
    "train_loader = DataLoader(train_dataset, batch_size=8, shuffle=True)\n",
    "val_loader = DataLoader(val_dataset, batch_size=8, shuffle=True)\n",
    "test_loader  = DataLoader(test_dataset, batch_size=len(test_dataset), shuffle=True)"
   ]
  },
  {
   "cell_type": "markdown",
   "metadata": {},
   "source": [
    "## Simple Linear auto enoder model"
   ]
  },
  {
   "cell_type": "code",
   "execution_count": 5,
   "metadata": {},
   "outputs": [],
   "source": [
    "class SimpleAE(nn.Module):\n",
    "    def __init__(self):\n",
    "        super().__init__()\n",
    "        self.encoder = nn.Sequential(nn.Linear(50, 5))\n",
    "        self.decoder = nn.Sequential(nn.Linear(5, 50))\n",
    "        \n",
    "    def forward(self, x):\n",
    "        x = self.encoder(x)\n",
    "        x = self.decoder(x)\n",
    "        return x\n",
    "    \n",
    "    def encode(self,x):\n",
    "        x = self.encoder(x)\n",
    "        return x\n",
    "    \n",
    "    def decode(self,x):\n",
    "        x = self.decoder(x)\n",
    "        return x\n",
    "        "
   ]
  },
  {
   "cell_type": "code",
   "execution_count": null,
   "metadata": {},
   "outputs": [],
   "source": []
  },
  {
   "cell_type": "markdown",
   "metadata": {},
   "source": [
    "### Using Early stopping while training \n"
   ]
  },
  {
   "cell_type": "code",
   "execution_count": 6,
   "metadata": {},
   "outputs": [],
   "source": [
    "class EarlyStopping():\n",
    "    \"\"\"\n",
    "    Early stopping to stop the training when the loss does not improve after\n",
    "    certain epochs.\n",
    "    \"\"\"\n",
    "    def __init__(self, patience=5, min_delta=0):\n",
    "        \"\"\"\n",
    "        :param patience: how many epochs to wait before stopping when loss is\n",
    "               not improving\n",
    "        :param min_delta: minimum %age difference between new loss and old loss for\n",
    "               new loss to be considered as an improvement\n",
    "        \"\"\"\n",
    "        self.patience = patience\n",
    "        self.min_delta = min_delta\n",
    "        self.counter = 0\n",
    "        self.best_loss = None\n",
    "        self.early_stop = False\n",
    "        \n",
    "    def __call__(self, val_loss):\n",
    "        if self.best_loss == None:\n",
    "            self.best_loss = val_loss\n",
    "        elif (self.best_loss - val_loss)/self.best_loss*100 > self.min_delta:\n",
    "            self.best_loss = val_loss\n",
    "        elif (self.best_loss - val_loss)/self.best_loss*100 < self.min_delta:\n",
    "            self.counter += 1\n",
    "            print(f\"INFO: Early stopping counter {self.counter} of {self.patience}\")\n",
    "            if self.counter >= self.patience:\n",
    "                print('INFO: Early stopping')\n",
    "                self.early_stop = True"
   ]
  },
  {
   "cell_type": "markdown",
   "metadata": {},
   "source": [
    "### Training and validation functions"
   ]
  },
  {
   "cell_type": "code",
   "execution_count": 7,
   "metadata": {},
   "outputs": [],
   "source": [
    "# training function\n",
    "def fit(model, train_dataloader, optimizer, criterion):\n",
    "    model.train()\n",
    "    train_running_loss = 0.0\n",
    "    train_running_correct = 0\n",
    "    counter = 0\n",
    "    total = 0\n",
    "    \n",
    "    for data in train_dataloader:\n",
    "        counter += 1\n",
    "        data, target = data[0].to(device), data[1].to(device)\n",
    "        total += target.size(0)\n",
    "        optimizer.zero_grad()\n",
    "        outputs = model(data)\n",
    "        loss = criterion(outputs, data)\n",
    "        train_running_loss += loss.item()\n",
    "        _, preds = torch.max(outputs.data, 1)\n",
    "        loss.backward()\n",
    "        optimizer.step()\n",
    "        \n",
    "    train_loss = train_running_loss / counter\n",
    "    return train_loss\n",
    "\n",
    "def validate(model, val_dataloader, criterion):\n",
    "    model.eval()\n",
    "    val_running_loss = 0.0\n",
    "    val_running_correct = 0\n",
    "    counter = 0\n",
    "    total = 0\n",
    "    \n",
    "    with torch.no_grad():\n",
    "        for data in val_dataloader:\n",
    "            counter += 1\n",
    "            data, target = data[0].to(device), data[1].to(device)\n",
    "            total += target.size(0)\n",
    "            outputs = model(data)\n",
    "            loss = criterion(outputs, data)\n",
    "            val_running_loss += loss.item()\n",
    "        \n",
    "        val_loss = val_running_loss / counter\n",
    "        return val_loss\n"
   ]
  },
  {
   "cell_type": "code",
   "execution_count": 8,
   "metadata": {},
   "outputs": [],
   "source": [
    "def train(model,train_loader,val_loader,args):\n",
    "\n",
    "    if args['early_stopping']:\n",
    "        early_stopping = EarlyStopping()\n",
    "    count=0\n",
    "    train_loss = []\n",
    "    val_loss = []\n",
    "    start = time.time()\n",
    "    for epoch in range(args['epochs']):\n",
    "        train_epoch_loss = fit(\n",
    "            model, train_loader, args['optimizer'], args['criterion']\n",
    "        )\n",
    "        val_epoch_loss = validate(\n",
    "            model, val_loader,  args['criterion']\n",
    "        )\n",
    "        train_loss.append(train_epoch_loss)\n",
    "        val_loss.append(val_epoch_loss)\n",
    "        if args['lr_scheduler']:\n",
    "            lr_scheduler(val_epoch_loss)\n",
    "        if args['early_stopping']:\n",
    "            early_stopping(val_epoch_loss)\n",
    "            if early_stopping.early_stop:\n",
    "                break\n",
    "\n",
    "        print(f\"Epoch: {count}, Train Loss: {train_epoch_loss:.4f}, Val Loss: {val_epoch_loss:.4f}\")\n",
    "        count+=1\n",
    "    end = time.time()\n",
    "    print(f\"Training time: {(end-start)/60:.3f} minutes\")\n",
    "    return train_loss, val_loss"
   ]
  },
  {
   "cell_type": "code",
   "execution_count": 9,
   "metadata": {},
   "outputs": [],
   "source": [
    "def plot_losses(train_loss,val_loss):\n",
    "    plt.figure(figsize=(10, 7))\n",
    "    # loss plots\n",
    "    plt.figure(figsize=(10, 7))\n",
    "    plt.plot(train_loss, color='orange', label='train loss')\n",
    "    plt.plot(val_loss, color='red', label='validataion loss')\n",
    "    plt.xlabel('Epochs')\n",
    "    plt.ylabel('Loss')\n",
    "    plt.legend()\n",
    "    plt.show()\n",
    "    "
   ]
  },
  {
   "cell_type": "code",
   "execution_count": 10,
   "metadata": {},
   "outputs": [],
   "source": [
    "#  The arguments will be same for each model for fair comparison\n",
    "device = torch.device(\"cuda\" if torch.cuda.is_available() else \"cpu\")\n",
    "criterion = nn.MSELoss()\n",
    "args={}\n",
    "args['lr_scheduler']  =False\n",
    "args['early_stopping']=True\n",
    "args['criterion']     = criterion\n",
    "args['epochs']        = 150"
   ]
  },
  {
   "cell_type": "code",
   "execution_count": 11,
   "metadata": {},
   "outputs": [
    {
     "name": "stdout",
     "output_type": "stream",
     "text": [
      "Epoch: 0, Train Loss: 1.0166, Val Loss: 0.9556\n",
      "Epoch: 1, Train Loss: 0.9181, Val Loss: 0.9030\n",
      "Epoch: 2, Train Loss: 0.8749, Val Loss: 0.8681\n",
      "Epoch: 3, Train Loss: 0.8418, Val Loss: 0.8387\n",
      "Epoch: 4, Train Loss: 0.8129, Val Loss: 0.8121\n",
      "Epoch: 5, Train Loss: 0.7869, Val Loss: 0.7880\n",
      "Epoch: 6, Train Loss: 0.7636, Val Loss: 0.7664\n",
      "Epoch: 7, Train Loss: 0.7430, Val Loss: 0.7477\n",
      "Epoch: 8, Train Loss: 0.7257, Val Loss: 0.7321\n",
      "Epoch: 9, Train Loss: 0.7116, Val Loss: 0.7196\n",
      "Epoch: 10, Train Loss: 0.7003, Val Loss: 0.7098\n",
      "Epoch: 11, Train Loss: 0.6915, Val Loss: 0.7020\n",
      "Epoch: 12, Train Loss: 0.6845, Val Loss: 0.6958\n",
      "Epoch: 13, Train Loss: 0.6790, Val Loss: 0.6909\n",
      "Epoch: 14, Train Loss: 0.6745, Val Loss: 0.6868\n",
      "Epoch: 15, Train Loss: 0.6708, Val Loss: 0.6835\n",
      "Epoch: 16, Train Loss: 0.6677, Val Loss: 0.6806\n",
      "Epoch: 17, Train Loss: 0.6650, Val Loss: 0.6780\n",
      "Epoch: 18, Train Loss: 0.6626, Val Loss: 0.6759\n",
      "Epoch: 19, Train Loss: 0.6606, Val Loss: 0.6739\n",
      "Epoch: 20, Train Loss: 0.6588, Val Loss: 0.6722\n",
      "Epoch: 21, Train Loss: 0.6572, Val Loss: 0.6707\n",
      "Epoch: 22, Train Loss: 0.6558, Val Loss: 0.6694\n",
      "Epoch: 23, Train Loss: 0.6546, Val Loss: 0.6682\n",
      "Epoch: 24, Train Loss: 0.6535, Val Loss: 0.6671\n",
      "Epoch: 25, Train Loss: 0.6526, Val Loss: 0.6662\n",
      "Epoch: 26, Train Loss: 0.6518, Val Loss: 0.6654\n",
      "Epoch: 27, Train Loss: 0.6510, Val Loss: 0.6646\n",
      "Epoch: 28, Train Loss: 0.6504, Val Loss: 0.6640\n",
      "Epoch: 29, Train Loss: 0.6498, Val Loss: 0.6634\n",
      "Epoch: 30, Train Loss: 0.6494, Val Loss: 0.6630\n",
      "Epoch: 31, Train Loss: 0.6489, Val Loss: 0.6625\n",
      "Epoch: 32, Train Loss: 0.6486, Val Loss: 0.6622\n",
      "Epoch: 33, Train Loss: 0.6483, Val Loss: 0.6619\n",
      "Epoch: 34, Train Loss: 0.6480, Val Loss: 0.6616\n",
      "Epoch: 35, Train Loss: 0.6478, Val Loss: 0.6613\n",
      "Epoch: 36, Train Loss: 0.6476, Val Loss: 0.6611\n",
      "Epoch: 37, Train Loss: 0.6474, Val Loss: 0.6610\n",
      "Epoch: 38, Train Loss: 0.6472, Val Loss: 0.6608\n",
      "Epoch: 39, Train Loss: 0.6471, Val Loss: 0.6607\n",
      "Epoch: 40, Train Loss: 0.6470, Val Loss: 0.6606\n",
      "Epoch: 41, Train Loss: 0.6469, Val Loss: 0.6605\n",
      "Epoch: 42, Train Loss: 0.6468, Val Loss: 0.6604\n",
      "Epoch: 43, Train Loss: 0.6467, Val Loss: 0.6603\n",
      "Epoch: 44, Train Loss: 0.6467, Val Loss: 0.6602\n",
      "Epoch: 45, Train Loss: 0.6466, Val Loss: 0.6602\n",
      "Epoch: 46, Train Loss: 0.6466, Val Loss: 0.6601\n",
      "Epoch: 47, Train Loss: 0.6465, Val Loss: 0.6601\n",
      "Epoch: 48, Train Loss: 0.6465, Val Loss: 0.6601\n",
      "Epoch: 49, Train Loss: 0.6465, Val Loss: 0.6600\n",
      "Epoch: 50, Train Loss: 0.6464, Val Loss: 0.6600\n",
      "Epoch: 51, Train Loss: 0.6464, Val Loss: 0.6600\n",
      "Epoch: 52, Train Loss: 0.6464, Val Loss: 0.6600\n",
      "Epoch: 53, Train Loss: 0.6464, Val Loss: 0.6600\n",
      "Epoch: 54, Train Loss: 0.6464, Val Loss: 0.6599\n",
      "Epoch: 55, Train Loss: 0.6464, Val Loss: 0.6599\n",
      "Epoch: 56, Train Loss: 0.6463, Val Loss: 0.6599\n",
      "Epoch: 57, Train Loss: 0.6463, Val Loss: 0.6599\n",
      "Epoch: 58, Train Loss: 0.6463, Val Loss: 0.6599\n",
      "INFO: Early stopping counter 1 of 5\n",
      "Epoch: 59, Train Loss: 0.6463, Val Loss: 0.6599\n",
      "INFO: Early stopping counter 2 of 5\n",
      "Epoch: 60, Train Loss: 0.6463, Val Loss: 0.6599\n",
      "INFO: Early stopping counter 3 of 5\n",
      "Epoch: 61, Train Loss: 0.6463, Val Loss: 0.6599\n",
      "Epoch: 62, Train Loss: 0.6463, Val Loss: 0.6599\n",
      "INFO: Early stopping counter 4 of 5\n",
      "Epoch: 63, Train Loss: 0.6463, Val Loss: 0.6599\n",
      "Epoch: 64, Train Loss: 0.6463, Val Loss: 0.6599\n",
      "Epoch: 65, Train Loss: 0.6463, Val Loss: 0.6599\n",
      "INFO: Early stopping counter 5 of 5\n",
      "INFO: Early stopping\n",
      "Training time: 0.879 minutes\n"
     ]
    },
    {
     "data": {
      "text/plain": [
       "<Figure size 720x504 with 0 Axes>"
      ]
     },
     "metadata": {},
     "output_type": "display_data"
    },
    {
     "data": {
      "image/png": "[encoded data removed]",
      "text/plain": [
       "<Figure size 720x504 with 1 Axes>"
      ]
     },
     "metadata": {
      "needs_background": "light"
     },
     "output_type": "display_data"
    }
   ],
   "source": [
    "if 'model_AE' in locals():\n",
    "    del model_AE\n",
    "    \n",
    "model_AE = SimpleAE()\n",
    "model_AE.to(device)\n",
    "\n",
    "optimizer = torch.optim.SGD(model_AE.parameters(), lr=0.01)\n",
    "args['optimizer']     = optimizer\n",
    "\n",
    "train_loss, val_loss = train(model_AE,train_loader,val_loader,args)\n",
    "plot_losses(train_loss,val_loss)"
   ]
  },
  {
   "cell_type": "code",
   "execution_count": 12,
   "metadata": {},
   "outputs": [],
   "source": [
    "def encode(model,data):\n",
    "    model.eval()\n",
    "    with torch.no_grad():\n",
    "        outputs = np.array(model.encode(torch.FloatTensor(data).to(device)).cpu())\n",
    "    return outputs\n",
    "\n",
    "def decode(model,data):\n",
    "    model.eval()\n",
    "    with torch.no_grad():\n",
    "        outputs = np.array(model.decode(torch.FloatTensor(data).to(device)).cpu())\n",
    "    return outputs\n"
   ]
  },
  {
   "cell_type": "markdown",
   "metadata": {},
   "source": [
    "## Standard deviation of each component in projections "
   ]
  },
  {
   "cell_type": "code",
   "execution_count": 13,
   "metadata": {},
   "outputs": [],
   "source": [
    "encodings_AE = pd.DataFrame(encode(model_AE,X_tr_std))\n",
    "pca = PCA(n_components=5,svd_solver='auto')\n",
    "scores = pca.fit_transform(X_tr_std) \n",
    "encodings_pca1 = pd.DataFrame(numpy.array(pca.transform(X_tr_std)))"
   ]
  },
  {
   "cell_type": "code",
   "execution_count": 14,
   "metadata": {},
   "outputs": [
    {
     "data": {
      "text/plain": [
       "<AxesSubplot:title={'center':'Autoencoder'}, xlabel='components', ylabel='standard deviation'>"
      ]
     },
     "execution_count": 14,
     "metadata": {},
     "output_type": "execute_result"
    },
    {
     "data": {
      "image/png": "[encoded data removed]",
      "text/plain": [
       "<Figure size 720x504 with 2 Axes>"
      ]
     },
     "metadata": {
      "needs_background": "light"
     },
     "output_type": "display_data"
    }
   ],
   "source": [
    "fig, axes = plt.subplots(2, 2)\n",
    "fig.delaxes(axes[1][0])\n",
    "fig.delaxes(axes[1][1])\n",
    "encodings_pca1.std().plot(kind='bar',ax=axes[0,0],ylabel='standard deviation',xlabel='components',title='PCA',grid=False,xticks=encodings_pca1.columns,ylim =(0,3) ,figsize=(10,7))\n",
    "encodings_AE.std().plot(kind='bar',title='Autoencoder',ylabel='standard deviation',xlabel='components', ax=axes[0,1],grid=False,xticks=encodings_AE.columns,ylim =(0,2) ,figsize=(10,7))"
   ]
  },
  {
   "cell_type": "markdown",
   "metadata": {},
   "source": [
    "### Observations\n",
    "1. In PCA, the top principle component carries maximum information (explain maximum variance).\n",
    "2. In autoencoder, there is no such constraint"
   ]
  },
  {
   "cell_type": "markdown",
   "metadata": {},
   "source": [
    "## Correlation test"
   ]
  },
  {
   "cell_type": "code",
   "execution_count": 15,
   "metadata": {},
   "outputs": [
    {
     "data": {
      "text/plain": [
       "<AxesSubplot:title={'center':'Autoencoder'}>"
      ]
     },
     "execution_count": 15,
     "metadata": {},
     "output_type": "execute_result"
    },
    {
     "data": {
      "image/png": "[encoded data removed]",
      "text/plain": [
       "<Figure size 1800x1800 with 4 Axes>"
      ]
     },
     "metadata": {
      "needs_background": "light"
     },
     "output_type": "display_data"
    }
   ],
   "source": [
    "fig = plt.figure(figsize = (25,25)) # width x height\n",
    "ax1 = fig.add_subplot(3, 3, 1) # row, column, position\n",
    "ax2 = fig.add_subplot(3, 3, 2)\n",
    "ax1.set_title('PCA')\n",
    "ax2.set_title('Autoencoder')\n",
    "sns.heatmap(data=encodings_pca1.corr(), ax=ax1, square=True, cbar_kws={'shrink': .3}, annot=True, annot_kws={'fontsize': 12})\n",
    "sns.heatmap(data=encodings_AE.corr(), ax=ax2,  square=True, cbar_kws={'shrink': .3}, annot=True, annot_kws={'fontsize': 12})"
   ]
  },
  {
   "cell_type": "markdown",
   "metadata": {},
   "source": [
    "### Observation\n",
    "In PCA, all the principle components are orthogonal in nature, which implies least or no correlation, where as in autoencoder there is no such constraints, which implies the encodings may have correlations in case of autoencoder's encodings"
   ]
  },
  {
   "cell_type": "markdown",
   "metadata": {},
   "source": [
    "## Performance"
   ]
  },
  {
   "cell_type": "code",
   "execution_count": 16,
   "metadata": {},
   "outputs": [
    {
     "data": {
      "text/plain": [
       "(0.9, 1.0)"
      ]
     },
     "execution_count": 16,
     "metadata": {},
     "output_type": "execute_result"
    },
    {
     "data": {
      "image/png": "[encoded data removed]",
      "text/plain": [
       "<Figure size 432x288 with 1 Axes>"
      ]
     },
     "metadata": {
      "needs_background": "light"
     },
     "output_type": "display_data"
    }
   ],
   "source": [
    "train_encodings_AE  = pd.DataFrame(encode(model_AE,X_tr_std))\n",
    "train_encodings_pca = pd.DataFrame(numpy.array(pca.transform(X_tr_std)))\n",
    "\n",
    "rfc = RandomForestClassifier(n_estimators=200, max_depth=5)\n",
    "\n",
    "labels = ['Original', 'PCA','AE']\n",
    "scores = pd.DataFrame(columns=labels)\n",
    "scores['PCA'] = cross_val_score(rfc, train_encodings_pca, y_tr, cv=5)\n",
    "scores['AE'] = cross_val_score(rfc, train_encodings_AE, y_tr, cv=5)\n",
    "scores['Original'] = cross_val_score(rfc, X_tr_std, y_tr, cv=5)\n",
    "sns.barplot(x='dataset', y='score', data = scores.melt(value_name='score', var_name='dataset'))\n",
    "plt.ylim(0.9,1)"
   ]
  },
  {
   "cell_type": "markdown",
   "metadata": {},
   "source": [
    "### Observations\n",
    "As expected the cross validation score should decrease in comparison to original feature set, But auto encoder performance is the least. Lets try to make the autoencoder a bit deep"
   ]
  },
  {
   "cell_type": "markdown",
   "metadata": {},
   "source": [
    "## Linear Stacked Encoder-Decoder"
   ]
  },
  {
   "cell_type": "code",
   "execution_count": 17,
   "metadata": {},
   "outputs": [],
   "source": [
    "class StackedLinearAE(nn.Module):\n",
    "    def __init__(self):\n",
    "        super().__init__()\n",
    "        self.encoder_l1 = nn.Sequential(nn.Linear(50, 20))\n",
    "        self.encoder_l2 = nn.Sequential(nn.Linear(20, 5))\n",
    "        self.decoder_l1 = nn.Sequential(nn.Linear(5, 20))\n",
    "        self.decoder_l2 = nn.Sequential(nn.Linear(20, 50))\n",
    "        \n",
    "    def forward(self, x):\n",
    "        x = self.encoder_l1(x)\n",
    "        x = self.encoder_l2(x)\n",
    "        x = self.decoder_l1(x)\n",
    "        x = self.decoder_l2(x)\n",
    "        return x\n",
    "    \n",
    "    def encode(self,x):\n",
    "        x = self.encoder_l1(x)\n",
    "        x = self.encoder_l2(x)\n",
    "        return x\n",
    "    \n",
    "    def decode(self,x):\n",
    "        x = self.decoder_l1(x)\n",
    "        x = self.decoder_l2(x)\n",
    "        return x"
   ]
  },
  {
   "cell_type": "code",
   "execution_count": 18,
   "metadata": {},
   "outputs": [
    {
     "name": "stdout",
     "output_type": "stream",
     "text": [
      "Epoch: 0, Train Loss: 1.0006, Val Loss: 0.9647\n",
      "Epoch: 1, Train Loss: 0.9190, Val Loss: 0.8909\n",
      "Epoch: 2, Train Loss: 0.8453, Val Loss: 0.8196\n",
      "Epoch: 3, Train Loss: 0.7817, Val Loss: 0.7673\n",
      "Epoch: 4, Train Loss: 0.7373, Val Loss: 0.7321\n",
      "Epoch: 5, Train Loss: 0.7102, Val Loss: 0.7126\n",
      "Epoch: 6, Train Loss: 0.6951, Val Loss: 0.7018\n",
      "Epoch: 7, Train Loss: 0.6862, Val Loss: 0.6950\n",
      "Epoch: 8, Train Loss: 0.6803, Val Loss: 0.6905\n",
      "Epoch: 9, Train Loss: 0.6763, Val Loss: 0.6874\n",
      "Epoch: 10, Train Loss: 0.6735, Val Loss: 0.6851\n",
      "Epoch: 11, Train Loss: 0.6714, Val Loss: 0.6836\n",
      "Epoch: 12, Train Loss: 0.6699, Val Loss: 0.6823\n",
      "Epoch: 13, Train Loss: 0.6687, Val Loss: 0.6812\n",
      "Epoch: 14, Train Loss: 0.6676, Val Loss: 0.6802\n",
      "Epoch: 15, Train Loss: 0.6666, Val Loss: 0.6792\n",
      "Epoch: 16, Train Loss: 0.6656, Val Loss: 0.6782\n",
      "Epoch: 17, Train Loss: 0.6645, Val Loss: 0.6772\n",
      "Epoch: 18, Train Loss: 0.6635, Val Loss: 0.6760\n",
      "Epoch: 19, Train Loss: 0.6624, Val Loss: 0.6749\n",
      "Epoch: 20, Train Loss: 0.6614, Val Loss: 0.6736\n",
      "Epoch: 21, Train Loss: 0.6603, Val Loss: 0.6724\n",
      "Epoch: 22, Train Loss: 0.6593, Val Loss: 0.6713\n",
      "Epoch: 23, Train Loss: 0.6583, Val Loss: 0.6702\n",
      "Epoch: 24, Train Loss: 0.6574, Val Loss: 0.6693\n",
      "Epoch: 25, Train Loss: 0.6567, Val Loss: 0.6684\n",
      "Epoch: 26, Train Loss: 0.6560, Val Loss: 0.6677\n",
      "Epoch: 27, Train Loss: 0.6554, Val Loss: 0.6670\n",
      "Epoch: 28, Train Loss: 0.6549, Val Loss: 0.6664\n",
      "Epoch: 29, Train Loss: 0.6544, Val Loss: 0.6659\n",
      "Epoch: 30, Train Loss: 0.6541, Val Loss: 0.6655\n",
      "Epoch: 31, Train Loss: 0.6538, Val Loss: 0.6652\n",
      "Epoch: 32, Train Loss: 0.6535, Val Loss: 0.6649\n",
      "Epoch: 33, Train Loss: 0.6533, Val Loss: 0.6647\n",
      "Epoch: 34, Train Loss: 0.6531, Val Loss: 0.6645\n",
      "Epoch: 35, Train Loss: 0.6529, Val Loss: 0.6642\n",
      "Epoch: 36, Train Loss: 0.6528, Val Loss: 0.6641\n",
      "Epoch: 37, Train Loss: 0.6527, Val Loss: 0.6639\n",
      "Epoch: 38, Train Loss: 0.6526, Val Loss: 0.6638\n",
      "Epoch: 39, Train Loss: 0.6525, Val Loss: 0.6637\n",
      "Epoch: 40, Train Loss: 0.6525, Val Loss: 0.6636\n",
      "Epoch: 41, Train Loss: 0.6524, Val Loss: 0.6634\n",
      "Epoch: 42, Train Loss: 0.6523, Val Loss: 0.6633\n",
      "Epoch: 43, Train Loss: 0.6523, Val Loss: 0.6633\n",
      "Epoch: 44, Train Loss: 0.6522, Val Loss: 0.6632\n",
      "Epoch: 45, Train Loss: 0.6522, Val Loss: 0.6631\n",
      "Epoch: 46, Train Loss: 0.6521, Val Loss: 0.6631\n",
      "Epoch: 47, Train Loss: 0.6520, Val Loss: 0.6629\n",
      "Epoch: 48, Train Loss: 0.6520, Val Loss: 0.6628\n",
      "Epoch: 49, Train Loss: 0.6519, Val Loss: 0.6627\n",
      "Epoch: 50, Train Loss: 0.6519, Val Loss: 0.6626\n",
      "Epoch: 51, Train Loss: 0.6518, Val Loss: 0.6626\n",
      "Epoch: 52, Train Loss: 0.6518, Val Loss: 0.6624\n",
      "Epoch: 53, Train Loss: 0.6517, Val Loss: 0.6623\n",
      "INFO: Early stopping counter 1 of 5\n",
      "Epoch: 54, Train Loss: 0.6516, Val Loss: 0.6623\n",
      "Epoch: 55, Train Loss: 0.6515, Val Loss: 0.6622\n",
      "Epoch: 56, Train Loss: 0.6515, Val Loss: 0.6620\n",
      "Epoch: 57, Train Loss: 0.6514, Val Loss: 0.6620\n",
      "Epoch: 58, Train Loss: 0.6513, Val Loss: 0.6619\n",
      "Epoch: 59, Train Loss: 0.6512, Val Loss: 0.6617\n",
      "Epoch: 60, Train Loss: 0.6511, Val Loss: 0.6617\n",
      "Epoch: 61, Train Loss: 0.6510, Val Loss: 0.6615\n",
      "Epoch: 62, Train Loss: 0.6509, Val Loss: 0.6614\n",
      "Epoch: 63, Train Loss: 0.6507, Val Loss: 0.6612\n",
      "Epoch: 64, Train Loss: 0.6506, Val Loss: 0.6611\n",
      "Epoch: 65, Train Loss: 0.6505, Val Loss: 0.6610\n",
      "Epoch: 66, Train Loss: 0.6504, Val Loss: 0.6609\n",
      "Epoch: 67, Train Loss: 0.6502, Val Loss: 0.6608\n",
      "Epoch: 68, Train Loss: 0.6501, Val Loss: 0.6607\n",
      "Epoch: 69, Train Loss: 0.6500, Val Loss: 0.6605\n",
      "Epoch: 70, Train Loss: 0.6499, Val Loss: 0.6605\n",
      "Epoch: 71, Train Loss: 0.6497, Val Loss: 0.6604\n",
      "Epoch: 72, Train Loss: 0.6496, Val Loss: 0.6604\n",
      "Epoch: 73, Train Loss: 0.6494, Val Loss: 0.6602\n",
      "Epoch: 74, Train Loss: 0.6493, Val Loss: 0.6602\n",
      "Epoch: 75, Train Loss: 0.6492, Val Loss: 0.6601\n",
      "Epoch: 76, Train Loss: 0.6490, Val Loss: 0.6599\n",
      "Epoch: 77, Train Loss: 0.6489, Val Loss: 0.6599\n",
      "Epoch: 78, Train Loss: 0.6488, Val Loss: 0.6598\n",
      "Epoch: 79, Train Loss: 0.6486, Val Loss: 0.6598\n",
      "Epoch: 80, Train Loss: 0.6485, Val Loss: 0.6597\n",
      "Epoch: 81, Train Loss: 0.6484, Val Loss: 0.6596\n",
      "INFO: Early stopping counter 2 of 5\n",
      "Epoch: 82, Train Loss: 0.6483, Val Loss: 0.6597\n",
      "Epoch: 83, Train Loss: 0.6481, Val Loss: 0.6596\n",
      "Epoch: 84, Train Loss: 0.6480, Val Loss: 0.6595\n",
      "Epoch: 85, Train Loss: 0.6479, Val Loss: 0.6594\n",
      "INFO: Early stopping counter 3 of 5\n",
      "Epoch: 86, Train Loss: 0.6479, Val Loss: 0.6595\n",
      "INFO: Early stopping counter 4 of 5\n",
      "Epoch: 87, Train Loss: 0.6478, Val Loss: 0.6595\n",
      "INFO: Early stopping counter 5 of 5\n",
      "INFO: Early stopping\n",
      "Training time: 1.473 minutes\n"
     ]
    },
    {
     "data": {
      "text/plain": [
       "<Figure size 720x504 with 0 Axes>"
      ]
     },
     "metadata": {},
     "output_type": "display_data"
    },
    {
     "data": {
      "image/png": "[encoded data removed]",
      "text/plain": [
       "<Figure size 720x504 with 1 Axes>"
      ]
     },
     "metadata": {
      "needs_background": "light"
     },
     "output_type": "display_data"
    }
   ],
   "source": [
    "if 'model_stacked_AE' in locals():\n",
    "    del model_stacked_AE\n",
    "    \n",
    "model_stacked_AE = StackedLinearAE()\n",
    "model_stacked_AE.to(device)\n",
    "\n",
    "optimizer = torch.optim.SGD(model_stacked_AE.parameters(), lr=0.01)\n",
    "args['optimizer']     = optimizer\n",
    "\n",
    "train_loss, val_loss = train(model_stacked_AE,train_loader,val_loader,args)\n",
    "plot_losses(train_loss,val_loss)"
   ]
  },
  {
   "cell_type": "code",
   "execution_count": 19,
   "metadata": {},
   "outputs": [
    {
     "data": {
      "text/plain": [
       "(0.9, 1.0)"
      ]
     },
     "execution_count": 19,
     "metadata": {},
     "output_type": "execute_result"
    },
    {
     "data": {
      "image/png": "[encoded data removed]",
      "text/plain": [
       "<Figure size 432x288 with 1 Axes>"
      ]
     },
     "metadata": {
      "needs_background": "light"
     },
     "output_type": "display_data"
    }
   ],
   "source": [
    "encodings_autoencoder2 = pd.DataFrame(encode(model_stacked_AE,X_tr_std))\n",
    "rfc = RandomForestClassifier(n_estimators=200, max_depth=5)\n",
    "scores['StackedAE'] = cross_val_score(rfc, encodings_autoencoder2, y_tr, cv=5)\n",
    "sns.barplot(x='dataset', y='score', data = scores.melt(value_name='score', var_name='dataset'))\n",
    "plt.ylim(0.9,1)"
   ]
  },
  {
   "cell_type": "markdown",
   "metadata": {},
   "source": [
    "## No linear stacked AE"
   ]
  },
  {
   "cell_type": "code",
   "execution_count": 20,
   "metadata": {},
   "outputs": [],
   "source": [
    "class NonLinearAE(nn.Module):\n",
    "    def __init__(self):\n",
    "        super().__init__()\n",
    "        self.encoder_l1 = nn.Sequential(nn.Linear(50, 20))\n",
    "        self.encoder_l2 = nn.Sequential(nn.Linear(20, 5))\n",
    "        self.decoder_l1 = nn.Sequential(nn.Linear(5, 20))\n",
    "        self.decoder_l2 = nn.Sequential(nn.Linear(20, 50))\n",
    "        \n",
    "    def forward(self, x):\n",
    "        x = self.encoder_l1(x)\n",
    "        x = torch.relu(x)\n",
    "        x = self.encoder_l2(x)\n",
    "        x = self.decoder_l1(x)\n",
    "        x = torch.relu(x)\n",
    "        x = self.decoder_l2(x)\n",
    "        return x\n",
    "    \n",
    "    def encode(self,x):\n",
    "        x = self.encoder_l1(x)\n",
    "        x = torch.relu(x)\n",
    "        x = self.encoder_l2(x)\n",
    "        return x\n",
    "    \n",
    "    def decode(self,x):\n",
    "        x = self.decoder_l1(x)\n",
    "        x = torch.relu(x)\n",
    "        x = self.decoder_l2(x)\n",
    "        return x"
   ]
  },
  {
   "cell_type": "code",
   "execution_count": 24,
   "metadata": {},
   "outputs": [
    {
     "name": "stdout",
     "output_type": "stream",
     "text": [
      "Epoch: 0, Train Loss: 1.0189, Val Loss: 1.0129\n",
      "Epoch: 1, Train Loss: 0.9983, Val Loss: 0.9995\n",
      "Epoch: 2, Train Loss: 0.9863, Val Loss: 0.9873\n",
      "Epoch: 3, Train Loss: 0.9721, Val Loss: 0.9703\n",
      "Epoch: 4, Train Loss: 0.9508, Val Loss: 0.9449\n",
      "Epoch: 5, Train Loss: 0.9211, Val Loss: 0.9120\n",
      "Epoch: 6, Train Loss: 0.8864, Val Loss: 0.8775\n",
      "Epoch: 7, Train Loss: 0.8536, Val Loss: 0.8478\n",
      "Epoch: 8, Train Loss: 0.8277, Val Loss: 0.8256\n",
      "Epoch: 9, Train Loss: 0.8072, Val Loss: 0.8067\n",
      "Epoch: 10, Train Loss: 0.7877, Val Loss: 0.7881\n",
      "Epoch: 11, Train Loss: 0.7689, Val Loss: 0.7721\n",
      "Epoch: 12, Train Loss: 0.7533, Val Loss: 0.7602\n",
      "Epoch: 13, Train Loss: 0.7417, Val Loss: 0.7512\n",
      "Epoch: 14, Train Loss: 0.7325, Val Loss: 0.7439\n",
      "Epoch: 15, Train Loss: 0.7249, Val Loss: 0.7374\n",
      "Epoch: 16, Train Loss: 0.7181, Val Loss: 0.7314\n",
      "Epoch: 17, Train Loss: 0.7115, Val Loss: 0.7249\n",
      "Epoch: 18, Train Loss: 0.7048, Val Loss: 0.7183\n",
      "Epoch: 19, Train Loss: 0.6977, Val Loss: 0.7111\n",
      "Epoch: 20, Train Loss: 0.6902, Val Loss: 0.7036\n",
      "Epoch: 21, Train Loss: 0.6827, Val Loss: 0.6960\n",
      "Epoch: 22, Train Loss: 0.6759, Val Loss: 0.6895\n",
      "Epoch: 23, Train Loss: 0.6699, Val Loss: 0.6840\n",
      "Epoch: 24, Train Loss: 0.6650, Val Loss: 0.6794\n",
      "Epoch: 25, Train Loss: 0.6609, Val Loss: 0.6754\n",
      "Epoch: 26, Train Loss: 0.6574, Val Loss: 0.6724\n",
      "Epoch: 27, Train Loss: 0.6543, Val Loss: 0.6692\n",
      "Epoch: 28, Train Loss: 0.6516, Val Loss: 0.6667\n",
      "Epoch: 29, Train Loss: 0.6491, Val Loss: 0.6640\n",
      "Epoch: 30, Train Loss: 0.6468, Val Loss: 0.6619\n",
      "Epoch: 31, Train Loss: 0.6447, Val Loss: 0.6598\n",
      "Epoch: 32, Train Loss: 0.6428, Val Loss: 0.6579\n",
      "Epoch: 33, Train Loss: 0.6409, Val Loss: 0.6564\n",
      "Epoch: 34, Train Loss: 0.6393, Val Loss: 0.6544\n",
      "Epoch: 35, Train Loss: 0.6376, Val Loss: 0.6526\n",
      "Epoch: 36, Train Loss: 0.6361, Val Loss: 0.6513\n",
      "Epoch: 37, Train Loss: 0.6347, Val Loss: 0.6497\n",
      "Epoch: 38, Train Loss: 0.6334, Val Loss: 0.6481\n",
      "Epoch: 39, Train Loss: 0.6321, Val Loss: 0.6468\n",
      "Epoch: 40, Train Loss: 0.6309, Val Loss: 0.6455\n",
      "Epoch: 41, Train Loss: 0.6298, Val Loss: 0.6444\n",
      "Epoch: 42, Train Loss: 0.6287, Val Loss: 0.6432\n",
      "Epoch: 43, Train Loss: 0.6276, Val Loss: 0.6424\n",
      "Epoch: 44, Train Loss: 0.6267, Val Loss: 0.6410\n",
      "Epoch: 45, Train Loss: 0.6258, Val Loss: 0.6402\n",
      "Epoch: 46, Train Loss: 0.6248, Val Loss: 0.6392\n",
      "Epoch: 47, Train Loss: 0.6239, Val Loss: 0.6383\n",
      "Epoch: 48, Train Loss: 0.6232, Val Loss: 0.6374\n",
      "Epoch: 49, Train Loss: 0.6223, Val Loss: 0.6369\n",
      "Epoch: 50, Train Loss: 0.6215, Val Loss: 0.6358\n",
      "Epoch: 51, Train Loss: 0.6208, Val Loss: 0.6353\n",
      "Epoch: 52, Train Loss: 0.6201, Val Loss: 0.6344\n",
      "Epoch: 53, Train Loss: 0.6195, Val Loss: 0.6337\n",
      "Epoch: 54, Train Loss: 0.6187, Val Loss: 0.6332\n",
      "Epoch: 55, Train Loss: 0.6182, Val Loss: 0.6324\n",
      "Epoch: 56, Train Loss: 0.6175, Val Loss: 0.6317\n",
      "Epoch: 57, Train Loss: 0.6169, Val Loss: 0.6313\n",
      "Epoch: 58, Train Loss: 0.6163, Val Loss: 0.6308\n",
      "Epoch: 59, Train Loss: 0.6158, Val Loss: 0.6301\n",
      "Epoch: 60, Train Loss: 0.6153, Val Loss: 0.6295\n",
      "Epoch: 61, Train Loss: 0.6147, Val Loss: 0.6290\n",
      "Epoch: 62, Train Loss: 0.6142, Val Loss: 0.6287\n",
      "Epoch: 63, Train Loss: 0.6136, Val Loss: 0.6280\n",
      "Epoch: 64, Train Loss: 0.6132, Val Loss: 0.6279\n",
      "Epoch: 65, Train Loss: 0.6127, Val Loss: 0.6270\n",
      "Epoch: 66, Train Loss: 0.6123, Val Loss: 0.6268\n",
      "Epoch: 67, Train Loss: 0.6118, Val Loss: 0.6264\n",
      "Epoch: 68, Train Loss: 0.6114, Val Loss: 0.6258\n",
      "Epoch: 69, Train Loss: 0.6109, Val Loss: 0.6256\n",
      "Epoch: 70, Train Loss: 0.6104, Val Loss: 0.6250\n",
      "Epoch: 71, Train Loss: 0.6101, Val Loss: 0.6248\n",
      "Epoch: 72, Train Loss: 0.6097, Val Loss: 0.6240\n",
      "Epoch: 73, Train Loss: 0.6093, Val Loss: 0.6238\n",
      "Epoch: 74, Train Loss: 0.6089, Val Loss: 0.6234\n",
      "Epoch: 75, Train Loss: 0.6085, Val Loss: 0.6230\n",
      "Epoch: 76, Train Loss: 0.6081, Val Loss: 0.6226\n",
      "Epoch: 77, Train Loss: 0.6077, Val Loss: 0.6223\n",
      "Epoch: 78, Train Loss: 0.6073, Val Loss: 0.6219\n",
      "Epoch: 79, Train Loss: 0.6070, Val Loss: 0.6217\n",
      "Epoch: 80, Train Loss: 0.6066, Val Loss: 0.6212\n",
      "Epoch: 81, Train Loss: 0.6062, Val Loss: 0.6209\n",
      "Epoch: 82, Train Loss: 0.6059, Val Loss: 0.6208\n",
      "Epoch: 83, Train Loss: 0.6055, Val Loss: 0.6207\n",
      "Epoch: 84, Train Loss: 0.6052, Val Loss: 0.6197\n",
      "Epoch: 85, Train Loss: 0.6049, Val Loss: 0.6195\n",
      "Epoch: 86, Train Loss: 0.6045, Val Loss: 0.6192\n",
      "Epoch: 87, Train Loss: 0.6042, Val Loss: 0.6189\n",
      "Epoch: 88, Train Loss: 0.6039, Val Loss: 0.6186\n",
      "Epoch: 89, Train Loss: 0.6036, Val Loss: 0.6183\n",
      "Epoch: 90, Train Loss: 0.6032, Val Loss: 0.6180\n",
      "Epoch: 91, Train Loss: 0.6029, Val Loss: 0.6176\n",
      "Epoch: 92, Train Loss: 0.6026, Val Loss: 0.6173\n",
      "Epoch: 93, Train Loss: 0.6023, Val Loss: 0.6167\n",
      "INFO: Early stopping counter 1 of 5\n",
      "Epoch: 94, Train Loss: 0.6020, Val Loss: 0.6168\n",
      "Epoch: 95, Train Loss: 0.6016, Val Loss: 0.6166\n",
      "Epoch: 96, Train Loss: 0.6014, Val Loss: 0.6160\n",
      "Epoch: 97, Train Loss: 0.6011, Val Loss: 0.6158\n",
      "Epoch: 98, Train Loss: 0.6007, Val Loss: 0.6153\n",
      "Epoch: 99, Train Loss: 0.6004, Val Loss: 0.6150\n",
      "INFO: Early stopping counter 2 of 5\n",
      "Epoch: 100, Train Loss: 0.6000, Val Loss: 0.6151\n",
      "Epoch: 101, Train Loss: 0.5998, Val Loss: 0.6147\n",
      "Epoch: 102, Train Loss: 0.5995, Val Loss: 0.6142\n",
      "Epoch: 103, Train Loss: 0.5993, Val Loss: 0.6140\n",
      "Epoch: 104, Train Loss: 0.5990, Val Loss: 0.6134\n",
      "Epoch: 105, Train Loss: 0.5987, Val Loss: 0.6133\n",
      "Epoch: 106, Train Loss: 0.5984, Val Loss: 0.6130\n",
      "Epoch: 107, Train Loss: 0.5980, Val Loss: 0.6128\n",
      "Epoch: 108, Train Loss: 0.5979, Val Loss: 0.6126\n",
      "Epoch: 109, Train Loss: 0.5976, Val Loss: 0.6119\n",
      "INFO: Early stopping counter 3 of 5\n",
      "Epoch: 110, Train Loss: 0.5973, Val Loss: 0.6122\n",
      "Epoch: 111, Train Loss: 0.5970, Val Loss: 0.6115\n",
      "INFO: Early stopping counter 4 of 5\n",
      "Epoch: 112, Train Loss: 0.5968, Val Loss: 0.6118\n",
      "Epoch: 113, Train Loss: 0.5965, Val Loss: 0.6114\n",
      "Epoch: 114, Train Loss: 0.5963, Val Loss: 0.6107\n",
      "Epoch: 115, Train Loss: 0.5960, Val Loss: 0.6106\n",
      "Epoch: 116, Train Loss: 0.5958, Val Loss: 0.6105\n",
      "Epoch: 117, Train Loss: 0.5956, Val Loss: 0.6101\n",
      "Epoch: 118, Train Loss: 0.5953, Val Loss: 0.6100\n",
      "Epoch: 119, Train Loss: 0.5950, Val Loss: 0.6096\n",
      "INFO: Early stopping counter 5 of 5\n",
      "INFO: Early stopping\n",
      "Training time: 2.191 minutes\n"
     ]
    },
    {
     "data": {
      "text/plain": [
       "<Figure size 720x504 with 0 Axes>"
      ]
     },
     "metadata": {},
     "output_type": "display_data"
    },
    {
     "data": {
      "image/png": "[encoded data removed]",
      "text/plain": [
       "<Figure size 720x504 with 1 Axes>"
      ]
     },
     "metadata": {
      "needs_background": "light"
     },
     "output_type": "display_data"
    }
   ],
   "source": [
    "if 'model_NL_AE' in locals():\n",
    "    del model_NL_AE\n",
    "    \n",
    "model_NL_AE = NonLinearAE()\n",
    "model_NL_AE.to(device)\n",
    "\n",
    "optimizer = torch.optim.SGD(model_NL_AE.parameters(), lr=0.01)\n",
    "args['optimizer']     = optimizer\n",
    "\n",
    "train_loss, val_loss = train(model_NL_AE,train_loader,val_loader,args)\n",
    "plot_losses(train_loss,val_loss)"
   ]
  },
  {
   "cell_type": "code",
   "execution_count": 34,
   "metadata": {},
   "outputs": [
    {
     "data": {
      "text/plain": [
       "(0.9, 1.0)"
      ]
     },
     "execution_count": 34,
     "metadata": {},
     "output_type": "execute_result"
    },
    {
     "data": {
      "image/png": "[encoded data removed]",
      "text/plain": [
       "<Figure size 432x288 with 1 Axes>"
      ]
     },
     "metadata": {
      "needs_background": "light"
     },
     "output_type": "display_data"
    }
   ],
   "source": [
    "encodings_autoencoder3 = pd.DataFrame(encode(model_NL_AE,X_tr_std))\n",
    "rfc = RandomForestClassifier(n_estimators=200, max_depth=5)\n",
    "scores['NL_AE'] = cross_val_score(rfc, encodings_autoencoder3, y_tr, cv=5)\n",
    "sns.barplot(x='dataset', y='score', data = scores.melt(value_name='score', var_name='dataset'))\n",
    "plt.ylim(0.9,1)"
   ]
  },
  {
   "cell_type": "markdown",
   "metadata": {},
   "source": [
    "## Reconstruction error"
   ]
  },
  {
   "cell_type": "code",
   "execution_count": 32,
   "metadata": {},
   "outputs": [
    {
     "data": {
      "text/plain": [
       "<AxesSubplot:ylabel='Mean squared error'>"
      ]
     },
     "execution_count": 32,
     "metadata": {},
     "output_type": "execute_result"
    },
    {
     "data": {
      "image/png": "[encoded data removed]",
      "text/plain": [
       "<Figure size 432x288 with 1 Axes>"
      ]
     },
     "metadata": {
      "needs_background": "light"
     },
     "output_type": "display_data"
    }
   ],
   "source": [
    "from sklearn.metrics import mean_squared_error\n",
    "PCA_decoded             = pca.inverse_transform(pca.transform(X_tr_std)) \n",
    "AE_decoded              = decode(model_AE,encode(model_AE,X_tr_std))\n",
    "stacked_AE_decoded      = decode(model_stacked_AE,encode(model_stacked_AE,X_tr_std))\n",
    "NL_AE_decoded = decode(model_NL_AE,encode(model_NL_AE,X_tr_std))\n",
    "\n",
    "labels = ['PCA','AE','Stacked_AE','NL_AE']\n",
    "mse = pd.DataFrame(columns=labels)\n",
    "\n",
    "mse['PCA']        = [mean_squared_error(PCA_decoded, X_tr_std)]\n",
    "mse['AE']         = [mean_squared_error(AE_decoded, X_tr_std)]\n",
    "mse['Stacked_AE'] = [mean_squared_error(stacked_AE_decoded, X_tr_std)]\n",
    "mse['NL_AE']      = [mean_squared_error(NL_AE_decoded, X_tr_std)]\n",
    "mse.iloc[0].plot(kind='bar',ylabel='Mean squared error')"
   ]
  },
  {
   "cell_type": "markdown",
   "metadata": {},
   "source": [
    "## Testing linear and non linear datasets"
   ]
  },
  {
   "cell_type": "code",
   "execution_count": null,
   "metadata": {},
   "outputs": [],
   "source": [
    "\n",
    "# data set 1\n",
    "x_dummy = np.linspace(start=1, stop=10, num=10000)\n",
    "y_dummy = x_dummy*2\n",
    "noise = np.random.normal(size=y_dummy.size)\n",
    "y_dummy = y_dummy + noise\n",
    "\n",
    "dataset1 = pd.DataFrame(columns=('x1','x2'))\n",
    "dataset1['x1'] = x_dummy\n",
    "dataset1['x2'] = y_dummy\n",
    "sc = StandardScaler()\n",
    "dataset1 = pd.DataFrame(sc.fit_transform(dataset1), columns=('x1','x2'))\n",
    "\n",
    "\n",
    "x_dummy = np.linspace(start=1, stop=10, num=10000)\n",
    "y_dummy = x_dummy*x_dummy\n",
    "noise = np.random.normal(size=y_dummy.size)\n",
    "y_dummy = y_dummy + noise\n",
    "\n",
    "dataset2 = pd.DataFrame(columns=('x1','x2'))\n",
    "dataset2['x1'] = x_dummy\n",
    "dataset2['x2'] = y_dummy\n",
    "sc = StandardScaler()\n",
    "dataset2 = pd.DataFrame(sc.fit_transform(dataset2), columns=('x1','x2'))\n",
    "\n",
    "x_dummy = np.linspace(start=1, stop=10, num=10000)\n",
    "y_dummy = np.exp(x_dummy)\n",
    "noise = np.random.normal(size=y_dummy.size)\n",
    "y_dummy = y_dummy + noise\n",
    "\n",
    "dataset3 = pd.DataFrame(columns=('x1','x2'))\n",
    "dataset3['x1'] = x_dummy\n",
    "dataset3['x2'] = y_dummy\n",
    "sc = StandardScaler()\n",
    "dataset3 = pd.DataFrame(sc.fit_transform(dataset3), columns=('x1','x2'))\n",
    "\n",
    "x1 = np.linspace(start=1, stop=10, num=10000)\n",
    "x2 = x1*x1\n",
    "noise = np.random.normal(size=y_dummy.size)\n",
    "x2 = x2 + noise\n",
    "\n",
    "x3 = 2*x1 + np.random.normal(size=y_dummy.size)\n",
    "\n",
    "\n",
    "\n",
    "dataset4 = pd.DataFrame(columns=('x1','x2','x3'))\n",
    "dataset4['x1'] = x1\n",
    "dataset4['x2'] = x2\n",
    "dataset4['x3'] = x3\n",
    "sc = StandardScaler()\n",
    "dataset4 = pd.DataFrame(sc.fit_transform(dataset4), columns=('x1','x2','x3'))\n"
   ]
  },
  {
   "cell_type": "code",
   "execution_count": null,
   "metadata": {},
   "outputs": [],
   "source": [
    "def f(x, y):\n",
    "    #import pdb;pdb.set_trace()\n",
    "    return np.sin(np.sqrt(x ** 2 + y ** 2))\n",
    "\n",
    "x = np.linspace(-6, 6, 30)\n",
    "y = np.linspace(-6, 6, 30)\n",
    "dataset=[]\n",
    "for i in range(30):\n",
    "    for j in range(30):\n",
    "        dataset.append([x[i],y[j],f(x[i],y[j])])\n",
    "\n"
   ]
  },
  {
   "cell_type": "code",
   "execution_count": null,
   "metadata": {},
   "outputs": [],
   "source": []
  },
  {
   "cell_type": "code",
   "execution_count": null,
   "metadata": {},
   "outputs": [],
   "source": [
    "\n",
    "fig = plt.figure()\n",
    "ax = plt.axes(projection='3d')\n",
    "ax.contour3D(np.array(dataset)[:,0], np.array(dataset)[:,1], np.array(dataset)[:,2])\n",
    "ax.set_xlabel('x')\n",
    "ax.set_ylabel('y')\n",
    "ax.set_zlabel('z');"
   ]
  },
  {
   "cell_type": "code",
   "execution_count": null,
   "metadata": {},
   "outputs": [],
   "source": [
    "Z.shape"
   ]
  },
  {
   "cell_type": "code",
   "execution_count": null,
   "metadata": {},
   "outputs": [],
   "source": [
    "fig = plt.figure()\n",
    "ax = plt.axes(projection='3d')\n",
    "ax.contour3D(dataset4['x1'], dataset4['x2'], dataset4['x3'], 50, cmap='binary')\n",
    "ax.set_xlabel('x')\n",
    "ax.set_ylabel('y')\n",
    "ax.set_zlabel('z');"
   ]
  },
  {
   "cell_type": "code",
   "execution_count": null,
   "metadata": {},
   "outputs": [],
   "source": [
    "pca = PCA(n_components=1,svd_solver='auto')\n",
    "dataset1_encoded_pca = pd.DataFrame(pca.fit_transform(dataset1))\n",
    "dataset1_decoded_pca = pd.DataFrame(pca.inverse_transform(dataset1_encoded_pca),columns=('x1','x2'))\n",
    "\n",
    "pca = PCA(n_components=1,svd_solver='auto')\n",
    "dataset2_encoded_pca = pd.DataFrame(pca.fit_transform(dataset2))\n",
    "dataset2_decoded_pca = pd.DataFrame(pca.inverse_transform(dataset2_encoded_pca),columns=('x1','x2'))\n",
    "\n",
    "pca = PCA(n_components=1,svd_solver='auto')\n",
    "dataset3_encoded_pca = pd.DataFrame(pca.fit_transform(dataset3))\n",
    "dataset3_decoded_pca = pd.DataFrame(pca.inverse_transform(dataset3_encoded_pca),columns=('x1','x2'))\n",
    "\n"
   ]
  },
  {
   "cell_type": "code",
   "execution_count": null,
   "metadata": {},
   "outputs": [],
   "source": [
    "plt.scatter(dataset1['x1'], dataset1['x2'], s=20, color='#00b3b3', label='Data')"
   ]
  },
  {
   "cell_type": "code",
   "execution_count": null,
   "metadata": {},
   "outputs": [],
   "source": [
    "plt.scatter(dataset1_decoded_pca['x1'], dataset1_decoded_pca['x2'], s=20, color='#00b3b3', label='Data')"
   ]
  },
  {
   "cell_type": "code",
   "execution_count": null,
   "metadata": {},
   "outputs": [],
   "source": [
    "plt.scatter(dataset3['x1'], dataset3['x2'], s=20, color='#00b3b3', label='Data')"
   ]
  },
  {
   "cell_type": "code",
   "execution_count": null,
   "metadata": {},
   "outputs": [],
   "source": [
    "plt.scatter(dataset3_decoded_pca['x1'], dataset3_decoded_pca['x2'], s=20, color='#00b3b3', label='Data')"
   ]
  },
  {
   "cell_type": "code",
   "execution_count": null,
   "metadata": {},
   "outputs": [],
   "source": [
    "class SimpleAE2(nn.Module):\n",
    "    def __init__(self):\n",
    "        super().__init__()\n",
    "        self.encoder = nn.Sequential(nn.Linear(2, 1))\n",
    "        self.decoder = nn.Sequential(nn.Linear(1, 2))\n",
    "        \n",
    "    def forward(self, x):\n",
    "        x = self.encoder(x)\n",
    "        x = torch.relu(x)\n",
    "        x = self.decoder(x)\n",
    "        x = torch.relu(x)\n",
    "        return x\n",
    "    \n",
    "    def encode(self,x):\n",
    "        x = self.encoder(x)\n",
    "        x = torch.relu(x)\n",
    "        return x\n",
    "    \n",
    "    def decode(self,x):\n",
    "        x = self.decoder(x)\n",
    "        x = torch.relu(x)\n",
    "        return x"
   ]
  },
  {
   "cell_type": "code",
   "execution_count": null,
   "metadata": {},
   "outputs": [],
   "source": [
    "model4 = SimpleAE2()\n",
    "model4.to(device)\n",
    "optimizer = torch.optim.SGD(model4.parameters(), lr=0.001)\n",
    "args['early_stopping']=True\n",
    "early_stopping = EarlyStopping(patience=10, min_delta=0)"
   ]
  },
  {
   "cell_type": "code",
   "execution_count": null,
   "metadata": {},
   "outputs": [],
   "source": []
  },
  {
   "cell_type": "code",
   "execution_count": null,
   "metadata": {},
   "outputs": [],
   "source": [
    "class Dataset(object):\n",
    " \n",
    "    def __init__(self,features):\n",
    "        self.data = features\n",
    "        \n",
    "    def __getitem__(self, index):\n",
    "        return torch.FloatTensor(self.data[index]).reshape(-1)\n",
    "    \n",
    "    def __len__(self):\n",
    "        return len(self.data)\n",
    "\n",
    "    \n",
    "X_train = np.array(dataset3.iloc[0:int(dataset3.shape[0]*0.8)])\n",
    "X_valid = np.array(dataset3.iloc[int(dataset3.shape[0]*0.8):])   \n",
    "    \n",
    "train_dataset = Dataset(X_train)\n",
    "val_dataset = Dataset(X_valid)\n",
    "\n",
    "train_loader = DataLoader(train_dataset, batch_size=8, shuffle=True)\n",
    "val_loader = DataLoader(val_dataset, batch_size=8, shuffle=True)\n"
   ]
  },
  {
   "cell_type": "code",
   "execution_count": null,
   "metadata": {},
   "outputs": [],
   "source": [
    "# training function\n",
    "def fit(model, train_dataloader, train_dataset, optimizer, criterion,print_status):\n",
    "    model.train()\n",
    "    train_running_loss = 0.0\n",
    "    train_running_correct = 0\n",
    "    counter = 0\n",
    "    total = 0\n",
    "    #prog_bar = tqdm.tqdm(enumerate(train_dataloader), total=int(len(train_dataset)/train_dataloader.batch_size))\n",
    "    #for i, data in prog_bar:\n",
    "    #import pdb;pdb.set_trace()\n",
    "    for data in train_dataloader:\n",
    "        counter += 1\n",
    "        data = data.to(device)\n",
    "        optimizer.zero_grad()\n",
    "        outputs = model(data)\n",
    "        loss = criterion(outputs, data)\n",
    "        train_running_loss += loss.item()\n",
    "        _, preds = torch.max(outputs.data, 1)\n",
    "        loss.backward()\n",
    "        optimizer.step()\n",
    "        \n",
    "    train_loss = train_running_loss / counter\n",
    "    return train_loss\n",
    "\n",
    "# validation function\n",
    "def validate(model, val_dataloader, val_dataset, criterion,print_status):\n",
    "    model.eval()\n",
    "    val_running_loss = 0.0\n",
    "    val_running_correct = 0\n",
    "    counter = 0\n",
    "    total = 0\n",
    "    #prog_bar = tqdm.tqdm(enumerate(val_dataloader), total=int(len(val_dataset)/val_dataloader.batch_size))\n",
    "    with torch.no_grad():\n",
    "     \n",
    "        #for i, data in prog_bar:\n",
    "        for data in val_dataloader:\n",
    "            counter += 1\n",
    "            data = data.to(device)\n",
    "            outputs = model(data)\n",
    "            loss = criterion(outputs, data)\n",
    "            val_running_loss += loss.item()\n",
    "        \n",
    "        val_loss = val_running_loss / counter\n",
    "        return val_loss\n",
    "\n",
    "def encode(model,data):\n",
    "    model.eval()\n",
    "    with torch.no_grad():\n",
    "        outputs = np.array(model.encode(torch.FloatTensor(data).to(device)).cpu())\n",
    "    return outputs\n",
    "\n",
    "def decode(model,data):\n",
    "    model.eval()\n",
    "    with torch.no_grad():\n",
    "        outputs = np.array(model.decode(torch.FloatTensor(data).to(device)).cpu())\n",
    "    return outputs\n"
   ]
  },
  {
   "cell_type": "code",
   "execution_count": null,
   "metadata": {},
   "outputs": [],
   "source": [
    "# lists to store per-epoch loss and accuracy values\n",
    "train_loss = []\n",
    "val_loss = []\n",
    "start = time.time()\n",
    "count=1\n",
    "for epoch in range(1000):\n",
    "    #print(f\"Epoch {epoch+1} of {epochs}\")\n",
    "    train_epoch_loss = fit(\n",
    "        model4, train_loader, train_dataset, optimizer, criterion,print_status=False\n",
    "    )\n",
    "    val_epoch_loss = validate(\n",
    "        model4, val_loader, val_dataset, criterion, print_status=False\n",
    "    )\n",
    "    train_loss.append(train_epoch_loss)\n",
    "    val_loss.append(val_epoch_loss)\n",
    "    if args['lr_scheduler']:\n",
    "        lr_scheduler(val_epoch_loss)\n",
    "    if args['early_stopping']:\n",
    "        early_stopping(val_epoch_loss)\n",
    "        if early_stopping.early_stop:\n",
    "            break\n",
    "\n",
    "    print(f\"Epoch: {count} : Train Loss: {train_epoch_loss:.4f}, Val Loss: {val_epoch_loss:.4f}\")\n",
    "    count+=1\n",
    "\n",
    "end = time.time()\n",
    "print(f\"Training time: {(end-start)/60:.3f} minutes\")\n"
   ]
  },
  {
   "cell_type": "code",
   "execution_count": null,
   "metadata": {},
   "outputs": [],
   "source": []
  },
  {
   "cell_type": "code",
   "execution_count": null,
   "metadata": {},
   "outputs": [],
   "source": [
    "plt.figure(figsize=(10, 7))\n",
    "# loss plots\n",
    "plt.figure(figsize=(10, 7))\n",
    "plt.plot(train_loss, color='orange', label='train loss')\n",
    "plt.plot(val_loss, color='red', label='validataion loss')\n",
    "plt.xlabel('Epochs')\n",
    "plt.ylabel('Loss')\n",
    "plt.legend()\n",
    "plt.show()"
   ]
  },
  {
   "cell_type": "code",
   "execution_count": null,
   "metadata": {},
   "outputs": [],
   "source": [
    "encoded"
   ]
  },
  {
   "cell_type": "code",
   "execution_count": null,
   "metadata": {},
   "outputs": [],
   "source": [
    "encoded = encode(model4,X_train)\n",
    "decoded = decode(model4,encoded)"
   ]
  },
  {
   "cell_type": "code",
   "execution_count": null,
   "metadata": {},
   "outputs": [],
   "source": []
  },
  {
   "cell_type": "code",
   "execution_count": null,
   "metadata": {},
   "outputs": [],
   "source": [
    "plt.scatter(decoded[:,0], decoded[:,1],s=20, color='#00b3b3', label='Data')"
   ]
  },
  {
   "cell_type": "code",
   "execution_count": null,
   "metadata": {},
   "outputs": [],
   "source": [
    "plt.scatter(decoded['x1'], decoded['x2'], s=20, color='#00b3b3', label='Data')"
   ]
  },
  {
   "cell_type": "code",
   "execution_count": null,
   "metadata": {},
   "outputs": [],
   "source": [
    "import torch.onnx\n",
    "dummy_input = torch.FloatTensor(X_tr_std).to(device)\n",
    "torch.onnx.export(model, dummy_input, \"model.png\")"
   ]
  },
  {
   "cell_type": "code",
   "execution_count": null,
   "metadata": {},
   "outputs": [],
   "source": []
  }
 ],
 "metadata": {
  "kernelspec": {
   "display_name": "pytorch_env",
   "language": "python",
   "name": "pytorch_env"
  },
  "language_info": {
   "codemirror_mode": {
    "name": "ipython",
    "version": 3
   },
   "file_extension": ".py",
   "mimetype": "text/x-python",
   "name": "python",
   "nbconvert_exporter": "python",
   "pygments_lexer": "ipython3",
   "version": "3.8.8"
  }
 },
 "nbformat": 4,
 "nbformat_minor": 4
}
